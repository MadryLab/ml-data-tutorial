{
 "cells": [
  {
   "cell_type": "code",
   "execution_count": null,
   "metadata": {},
   "outputs": [],
   "source": [
    "import torch\n",
    "import numpy as np\n",
    "from tqdm.autonotebook import tqdm\n",
    "from utils import train_on_subset, record_output, get_loader\n",
    "np.random.seed(42)  # fix random seed for reproducibility"
   ]
  },
  {
   "cell_type": "code",
   "execution_count": null,
   "metadata": {},
   "outputs": [],
   "source": [
    "# 1. create 10 random subsets of the training set\n",
    "#    (each containing a half of the samples)\n",
    "train_set_subsets = []\n",
    "for i in range(10):\n",
    "    subset = np.random.choice(range(50_000), 25_000, replace=False)\n",
    "    train_set_subsets.append(subset)"
   ]
  },
  {
   "cell_type": "code",
   "execution_count": null,
   "metadata": {},
   "outputs": [],
   "source": [
    "# 2. train a model on each subset\n",
    "#    and record its output on a target example of choice\n",
    "val_loader = get_loader(split=\"val\")\n",
    "target_example = val_loader.dataset[0]\n",
    "\n",
    "outputs_per_subset = []\n",
    "for subset in tqdm(train_set_subsets):\n",
    "    model = train_on_subset(subset)\n",
    "    out = record_output(model, target_example)\n",
    "    outputs_per_subset.append(out)"
   ]
  },
  {
   "cell_type": "code",
   "execution_count": null,
   "metadata": {},
   "outputs": [],
   "source": [
    "# 3. get predicted model outputs from your attribution method for each subset;\n",
    "#    here's where linearity comes into play, our prediction is the sum of\n",
    "#    attribution scores across samples within the subset\n",
    "dummy_attribution_scores = torch.randn(50_000)  # dummy scores for the tutorial\n",
    "\n",
    "predictions_per_subset = []\n",
    "for subset in train_set_subsets:\n",
    "    prediction = dummy_attribution_scores[subset].sum()\n",
    "    predictions_per_subset.append(prediction)"
   ]
  },
  {
   "cell_type": "code",
   "execution_count": null,
   "metadata": {},
   "outputs": [],
   "source": [
    "# 4. evaluate the rank-correlation between the true model outputs\n",
    "#    and the predictions from our attribution method\n",
    "from scipy.stats import spearmanr\n",
    "LDS = spearmanr(outputs_per_subset, predictions_per_subset)\n",
    "print(f'LDS: {LDS.correlation:.3f} (p value {LDS.pvalue:.6f})')"
   ]
  },
  {
   "cell_type": "markdown",
   "metadata": {},
   "source": [
    "In practice, we would evaluate the correlations for many target examples,\n",
    "and then average the correlations across the target examples. The code below implements the many-target version of LDS efficiently."
   ]
  },
  {
   "cell_type": "code",
   "execution_count": null,
   "metadata": {},
   "outputs": [],
   "source": [
    "from pathlib import Path\n",
    "import wget\n",
    "from tqdm import tqdm\n",
    "\n",
    "def eval_correlations(scores, tmp_path):\n",
    "    masks_url = 'https://www.dropbox.com/s/x76uyen8ffkjfke/mask.npy?dl=1'\n",
    "    margins_url = 'https://www.dropbox.com/s/q1dxoxw78ct7c27/val_margins.npy?dl=1'\n",
    "\n",
    "    masks_path = Path(tmp_path).joinpath('mask.npy')\n",
    "    wget.download(masks_url, out=str(masks_path), bar=None)\n",
    "    # num masks, num train samples\n",
    "    masks = torch.as_tensor(np.load(masks_path, mmap_mode='r')).float()\n",
    "\n",
    "    margins_path = Path(tmp_path).joinpath('val_margins.npy')\n",
    "    wget.download(margins_url, out=str(margins_path), bar=None)\n",
    "    # num , num val samples\n",
    "    margins = torch.as_tensor(np.load(margins_path, mmap_mode='r'))\n",
    "\n",
    "    val_inds = np.arange(2_000)\n",
    "    preds = masks @ scores\n",
    "    rs = []\n",
    "    ps = []\n",
    "    for ind, j in tqdm(enumerate(val_inds)):\n",
    "        r, p = spearmanr(preds[:, ind], margins[:, j])\n",
    "        rs.append(r)\n",
    "        ps.append(p)\n",
    "    rs, ps = np.array(rs), np.array(ps)\n",
    "    print(f'Correlation: {rs.mean():.3f} (avg p value {ps.mean():.6f})')\n",
    "    return rs.mean()"
   ]
  }
 ],
 "metadata": {
  "kernelspec": {
   "display_name": "Python 3 (ipykernel)",
   "language": "python",
   "name": "python3"
  },
  "language_info": {
   "codemirror_mode": {
    "name": "ipython",
    "version": 3
   },
   "file_extension": ".py",
   "mimetype": "text/x-python",
   "name": "python",
   "nbconvert_exporter": "python",
   "pygments_lexer": "ipython3",
   "version": "3.11.9"
  }
 },
 "nbformat": 4,
 "nbformat_minor": 2
}
